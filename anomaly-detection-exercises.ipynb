{
 "cells": [
  {
   "cell_type": "code",
   "execution_count": 1,
   "id": "8891417b",
   "metadata": {},
   "outputs": [],
   "source": [
    "# coding \n",
    "import math\n",
    "from math import sqrt\n",
    "import numpy as np\n",
    "import seaborn as sns\n",
    "import scipy.stats as stats\n",
    "import pandas as pd\n",
    "import matplotlib.pyplot as plt\n",
    "from pydataset import data\n",
    "import scipy.stats\n",
    "import scipy\n",
    "import os\n",
    "\n",
    "# needed for modeling\n",
    "import sklearn.preprocessing\n",
    "from sklearn.model_selection import train_test_split\n",
    "from sklearn.neighbors import KNeighborsClassifier\n",
    "from sklearn.preprocessing import MinMaxScaler, StandardScaler, RobustScaler, QuantileTransformer\n",
    "from sklearn.metrics import explained_variance_score\n",
    "import statsmodels.api as sm\n",
    "from sklearn.metrics import mean_squared_error\n",
    "from sklearn.linear_model import LinearRegression, LassoLars, TweedieRegressor\n",
    "from sklearn.preprocessing import PolynomialFeatures\n",
    "from sklearn.cluster import KMeans\n",
    "import matplotlib.pyplot as plt\n",
    "plt.rcParams[\"figure.figsize\"] = (16,9)\n",
    "plt.rcParams[\"font.size\"] = 20\n",
    "from statsmodels.tsa.api import Holt"
   ]
  },
  {
   "cell_type": "markdown",
   "id": "e0b32c4a",
   "metadata": {},
   "source": [
    "### Exercises\n",
    "Using the repo setup directions, setup a new local and remote repository named anomaly-detection-exercises. The local version of your repo should live inside of ~/codeup-data-science. This repo should be named anomaly-detection-exercises\n",
    "\n",
    "    Save this work in your anomaly-detection-exercises repo. Then add, commit, and push your changes.\n",
    "\n",
    "continuous_probabilistic_methods.py or continuous_probabilistic_methods.ipynb 1. Define a function named get_lower_and_upper_bounds that has two arguments. The first argument is a pandas Series. The second argument is the multiplier, which should have a default argument of 1.5.\n",
    "\n",
    "1) Using lemonade.csv dataset and focusing on continuous variables:\n",
    "\n",
    "- Use the IQR Range Rule and the upper and lower bounds to identify the lower outliers of each column of lemonade.csv, using the multiplier of 1.5. Do these lower outliers make sense? Which outliers should be kept?\n",
    "- Use the IQR Range Rule and the upper and upper bounds to identify the upper outliers of each column of lemonade.csv, using the multiplier of 1.5. Do these upper outliers make sense? Which outliers should be kept?\n",
    "- Using the multiplier of 3, IQR Range Rule, and the lower bounds, identify the outliers below the lower bound in each colum of lemonade.csv. Do these lower outliers make sense? Which outliers should be kept?\n",
    "- Using the multiplier of 3, IQR Range Rule, and the upper bounds, identify the outliers above the upper_bound in each colum of lemonade.csv. Do these upper outliers make sense? Which outliers should be kept?\n",
    "\n",
    "2) Identify if any columns in lemonade.csv are normally distributed. For normally distributed columns:\n",
    "\n",
    "- Use a 2 sigma decision rule to isolate the outliers.\n",
    "\n",
    "    - Do these make sense?\n",
    "    - Should certain outliers be kept or removed?\n",
    "3) Now use a 3 sigma decision rule to isolate the outliers in the normally distributed columns from lemonade.csv"
   ]
  },
  {
   "cell_type": "code",
   "execution_count": 2,
   "id": "de32e60a",
   "metadata": {},
   "outputs": [],
   "source": [
    "# drawing csv out of webpage\n",
    "lemonade = \"https://gist.githubusercontent.com/ryanorsinger/19bc7eccd6279661bd13307026628ace/raw/e4b5d6787015a4782f96cad6d1d62a8bdbac54c7/lemonade.csv\"\n",
    "#renaming csv file to df\n",
    "df = pd.read_csv(lemonade)"
   ]
  },
  {
   "cell_type": "code",
   "execution_count": 3,
   "id": "75fa509e",
   "metadata": {},
   "outputs": [
    {
     "data": {
      "text/html": [
       "<div>\n",
       "<style scoped>\n",
       "    .dataframe tbody tr th:only-of-type {\n",
       "        vertical-align: middle;\n",
       "    }\n",
       "\n",
       "    .dataframe tbody tr th {\n",
       "        vertical-align: top;\n",
       "    }\n",
       "\n",
       "    .dataframe thead th {\n",
       "        text-align: right;\n",
       "    }\n",
       "</style>\n",
       "<table border=\"1\" class=\"dataframe\">\n",
       "  <thead>\n",
       "    <tr style=\"text-align: right;\">\n",
       "      <th></th>\n",
       "      <th>Date</th>\n",
       "      <th>Day</th>\n",
       "      <th>Temperature</th>\n",
       "      <th>Rainfall</th>\n",
       "      <th>Flyers</th>\n",
       "      <th>Price</th>\n",
       "      <th>Sales</th>\n",
       "    </tr>\n",
       "  </thead>\n",
       "  <tbody>\n",
       "    <tr>\n",
       "      <th>0</th>\n",
       "      <td>1/1/17</td>\n",
       "      <td>Sunday</td>\n",
       "      <td>27.0</td>\n",
       "      <td>2.00</td>\n",
       "      <td>15</td>\n",
       "      <td>0.5</td>\n",
       "      <td>10</td>\n",
       "    </tr>\n",
       "    <tr>\n",
       "      <th>1</th>\n",
       "      <td>1/2/17</td>\n",
       "      <td>Monday</td>\n",
       "      <td>28.9</td>\n",
       "      <td>1.33</td>\n",
       "      <td>15</td>\n",
       "      <td>0.5</td>\n",
       "      <td>13</td>\n",
       "    </tr>\n",
       "    <tr>\n",
       "      <th>2</th>\n",
       "      <td>1/3/17</td>\n",
       "      <td>Tuesday</td>\n",
       "      <td>34.5</td>\n",
       "      <td>1.33</td>\n",
       "      <td>27</td>\n",
       "      <td>0.5</td>\n",
       "      <td>15</td>\n",
       "    </tr>\n",
       "    <tr>\n",
       "      <th>3</th>\n",
       "      <td>1/4/17</td>\n",
       "      <td>Wednesday</td>\n",
       "      <td>44.1</td>\n",
       "      <td>1.05</td>\n",
       "      <td>28</td>\n",
       "      <td>0.5</td>\n",
       "      <td>17</td>\n",
       "    </tr>\n",
       "    <tr>\n",
       "      <th>4</th>\n",
       "      <td>1/5/17</td>\n",
       "      <td>Thursday</td>\n",
       "      <td>42.4</td>\n",
       "      <td>1.00</td>\n",
       "      <td>33</td>\n",
       "      <td>0.5</td>\n",
       "      <td>18</td>\n",
       "    </tr>\n",
       "    <tr>\n",
       "      <th>...</th>\n",
       "      <td>...</td>\n",
       "      <td>...</td>\n",
       "      <td>...</td>\n",
       "      <td>...</td>\n",
       "      <td>...</td>\n",
       "      <td>...</td>\n",
       "      <td>...</td>\n",
       "    </tr>\n",
       "    <tr>\n",
       "      <th>360</th>\n",
       "      <td>12/27/17</td>\n",
       "      <td>Wednesday</td>\n",
       "      <td>42.7</td>\n",
       "      <td>1.00</td>\n",
       "      <td>33</td>\n",
       "      <td>0.5</td>\n",
       "      <td>19</td>\n",
       "    </tr>\n",
       "    <tr>\n",
       "      <th>361</th>\n",
       "      <td>12/28/17</td>\n",
       "      <td>Thursday</td>\n",
       "      <td>37.8</td>\n",
       "      <td>1.25</td>\n",
       "      <td>32</td>\n",
       "      <td>0.5</td>\n",
       "      <td>16</td>\n",
       "    </tr>\n",
       "    <tr>\n",
       "      <th>362</th>\n",
       "      <td>12/29/17</td>\n",
       "      <td>Friday</td>\n",
       "      <td>39.5</td>\n",
       "      <td>1.25</td>\n",
       "      <td>17</td>\n",
       "      <td>0.5</td>\n",
       "      <td>15</td>\n",
       "    </tr>\n",
       "    <tr>\n",
       "      <th>363</th>\n",
       "      <td>12/30/17</td>\n",
       "      <td>Saturday</td>\n",
       "      <td>30.9</td>\n",
       "      <td>1.43</td>\n",
       "      <td>22</td>\n",
       "      <td>0.5</td>\n",
       "      <td>13</td>\n",
       "    </tr>\n",
       "    <tr>\n",
       "      <th>364</th>\n",
       "      <td>12/31/17</td>\n",
       "      <td>Sunday</td>\n",
       "      <td>15.1</td>\n",
       "      <td>2.50</td>\n",
       "      <td>9</td>\n",
       "      <td>0.5</td>\n",
       "      <td>7</td>\n",
       "    </tr>\n",
       "  </tbody>\n",
       "</table>\n",
       "<p>365 rows × 7 columns</p>\n",
       "</div>"
      ],
      "text/plain": [
       "         Date        Day  Temperature  Rainfall  Flyers  Price  Sales\n",
       "0      1/1/17     Sunday         27.0      2.00      15    0.5     10\n",
       "1      1/2/17     Monday         28.9      1.33      15    0.5     13\n",
       "2      1/3/17    Tuesday         34.5      1.33      27    0.5     15\n",
       "3      1/4/17  Wednesday         44.1      1.05      28    0.5     17\n",
       "4      1/5/17   Thursday         42.4      1.00      33    0.5     18\n",
       "..        ...        ...          ...       ...     ...    ...    ...\n",
       "360  12/27/17  Wednesday         42.7      1.00      33    0.5     19\n",
       "361  12/28/17   Thursday         37.8      1.25      32    0.5     16\n",
       "362  12/29/17     Friday         39.5      1.25      17    0.5     15\n",
       "363  12/30/17   Saturday         30.9      1.43      22    0.5     13\n",
       "364  12/31/17     Sunday         15.1      2.50       9    0.5      7\n",
       "\n",
       "[365 rows x 7 columns]"
      ]
     },
     "execution_count": 3,
     "metadata": {},
     "output_type": "execute_result"
    }
   ],
   "source": [
    "#looking at csv file\n",
    "df"
   ]
  },
  {
   "cell_type": "markdown",
   "id": "633bcf30",
   "metadata": {},
   "source": [
    "sdcsdcfscvhelo "
   ]
  },
  {
   "cell_type": "code",
   "execution_count": 6,
   "id": "a630a010",
   "metadata": {},
   "outputs": [],
   "source": [
    "def get_lower_and_upper_bounds(df, multiplier = 1.5):\n",
    "    # set the quartile\n",
    "    q1 = df.quantile(0.25)\n",
    "    q3 = df.quantile(0.75)\n",
    "    \n",
    "    # calculate the inter-quartile range\n",
    "    iqr = q3 - q1\n",
    "    \n",
    "    # set lower and upperbound\n",
    "    lower = q1 - (iqr * multiplier)\n",
    "    upper = q3 + (iqr * multiplier)\n",
    "    \n",
    "    return lower, upper"
   ]
  },
  {
   "cell_type": "markdown",
   "id": "e99d31d2",
   "metadata": {},
   "source": [
    "1) \n",
    "- `Use the IQR Range Rule and the upper and lower bounds to identify the lower outliers of each column of lemonade.csv, using the multiplier of 1.5. Do these lower outliers make sense? Which outliers should be kept?\n",
    "Outliers to remove:`\n",
    "    - Temperature lower outliers should be taken out(temp 15).\n",
    "    - flyers -38 doesn't make sense.\n",
    "\n",
    "- `Use the IQR Range Rule and the upper and upper bounds to identify the upper outliers of each column of lemonade.csv, using the multiplier of 1.5. Do these upper outliers make sense? Which outliers should be kept?`\n",
    "    - the flyer upper bounds makes sense because it is only a few over the 2nd quarter\n",
    "    - sales anything over 200 makes no sense since it is far beyond the average.\n",
    "    - keep sales under 200\n",
    "    - keep rainfall as well\n",
    "- `Using the multiplier of 3, IQR Range Rule, and the lower bounds, identify the outliers below the lower bound in each colum of lemonade.csv. Do these lower outliers make sense? Which outliers should be kept?`\n",
    "    - flyers with negative numbers should be removed\n",
    "    - temperature over 200 should be removed\n",
    "    -\n",
    "    \n",
    "- `Using the multiplier of 3, IQR Range Rule, and the upper bounds, identify the outliers above the upper_bound in each colum of lemonade.csv. Do these upper outliers make sense? Which outliers should be kept?`\n",
    "    - \n",
    "    -"
   ]
  },
  {
   "cell_type": "code",
   "execution_count": 7,
   "id": "2f1b9fb3",
   "metadata": {},
   "outputs": [
    {
     "data": {
      "image/png": "[encoded data removed]",
      "text/plain": [
       "<Figure size 1152x648 with 1 Axes>"
      ]
     },
     "metadata": {
      "needs_background": "light"
     },
     "output_type": "display_data"
    },
    {
     "data": {
      "image/png": "[encoded data removed]",
      "text/plain": [
       "<Figure size 1152x648 with 1 Axes>"
      ]
     },
     "metadata": {
      "needs_background": "light"
     },
     "output_type": "display_data"
    },
    {
     "data": {
      "image/png": "[encoded data removed]",
      "text/plain": [
       "<Figure size 1152x648 with 1 Axes>"
      ]
     },
     "metadata": {
      "needs_background": "light"
     },
     "output_type": "display_data"
    },
    {
     "data": {
      "image/png": "[encoded data removed]",
      "text/plain": [
       "<Figure size 1152x648 with 1 Axes>"
      ]
     },
     "metadata": {
      "needs_background": "light"
     },
     "output_type": "display_data"
    },
    {
     "data": {
      "image/png": "[encoded data removed]",
      "text/plain": [
       "<Figure size 1152x648 with 1 Axes>"
      ]
     },
     "metadata": {
      "needs_background": "light"
     },
     "output_type": "display_data"
    }
   ],
   "source": [
    "for cnt, col in enumerate(df.columns[2:7]):\n",
    "    sns.boxplot(data=df, x=col)\n",
    "    plt.title(col)\n",
    "    plt.show()"
   ]
  },
  {
   "cell_type": "code",
   "execution_count": 12,
   "id": "7b215b85",
   "metadata": {},
   "outputs": [
    {
     "data": {
      "text/plain": [
       "count    365.000000\n",
       "mean      61.224658\n",
       "std       18.085892\n",
       "min       15.100000\n",
       "25%       49.700000\n",
       "50%       61.100000\n",
       "75%       71.700000\n",
       "max      212.000000\n",
       "Name: Temperature, dtype: float64"
      ]
     },
     "execution_count": 12,
     "metadata": {},
     "output_type": "execute_result"
    }
   ],
   "source": [
    "df.Temperature.describe()"
   ]
  },
  {
   "cell_type": "code",
   "execution_count": 13,
   "id": "e0842f3c",
   "metadata": {},
   "outputs": [
    {
     "data": {
      "text/plain": [
       "count    365.000000\n",
       "mean      40.104110\n",
       "std       13.786445\n",
       "min      -38.000000\n",
       "25%       31.000000\n",
       "50%       39.000000\n",
       "75%       49.000000\n",
       "max       80.000000\n",
       "Name: Flyers, dtype: float64"
      ]
     },
     "execution_count": 13,
     "metadata": {},
     "output_type": "execute_result"
    }
   ],
   "source": [
    "df.Flyers.describe()"
   ]
  },
  {
   "cell_type": "markdown",
   "id": "feee0a93",
   "metadata": {},
   "source": [
    "`2) Identify if any columns in lemonade.csv are normally distributed. For normally distributed columns:`\n",
    "\n",
    "Use a 2 sigma decision rule to isolate the outliers.\n",
    "\n",
    "Do these make sense?\n",
    "Should certain outliers be kept or removed?"
   ]
  },
  {
   "cell_type": "code",
   "execution_count": 19,
   "id": "82bd8b13",
   "metadata": {},
   "outputs": [
    {
     "data": {
      "image/png": "[encoded data removed]",
      "text/plain": [
       "<Figure size 1152x648 with 1 Axes>"
      ]
     },
     "metadata": {
      "needs_background": "light"
     },
     "output_type": "display_data"
    },
    {
     "data": {
      "image/png": "[encoded data removed]",
      "text/plain": [
       "<Figure size 1152x648 with 1 Axes>"
      ]
     },
     "metadata": {
      "needs_background": "light"
     },
     "output_type": "display_data"
    },
    {
     "data": {
      "image/png": "[encoded data removed]",
      "text/plain": [
       "<Figure size 1152x648 with 1 Axes>"
      ]
     },
     "metadata": {
      "needs_background": "light"
     },
     "output_type": "display_data"
    },
    {
     "data": {
      "image/png": "[encoded data removed]",
      "text/plain": [
       "<Figure size 1152x648 with 1 Axes>"
      ]
     },
     "metadata": {
      "needs_background": "light"
     },
     "output_type": "display_data"
    },
    {
     "data": {
      "image/png": "[encoded data removed]",
      "text/plain": [
       "<Figure size 1152x648 with 1 Axes>"
      ]
     },
     "metadata": {
      "needs_background": "light"
     },
     "output_type": "display_data"
    }
   ],
   "source": [
    "for col in df.columns[2:7]:\n",
    "    df[col].plot.hist(ec='black', bins=50, title= col)\n",
    "    plt.show()"
   ]
  },
  {
   "cell_type": "markdown",
   "id": "aea96622",
   "metadata": {},
   "source": [
    "- Take aways is that flyers have a normal distribution with the exception of the observation in -40 to -30 range."
   ]
  },
  {
   "cell_type": "code",
   "execution_count": 24,
   "id": "de4d6c3a",
   "metadata": {
    "scrolled": false
   },
   "outputs": [
    {
     "name": "stderr",
     "output_type": "stream",
     "text": [
      "/var/folders/dc/8rtfvpyj2mb6mqbnfkf5dl400000gn/T/ipykernel_9399/2178920341.py:4: FutureWarning: Automatic reindexing on DataFrame vs Series comparisons is deprecated and will raise ValueError in a future version.  Do `left, right = left.align(right, axis=1, copy=False)` before e.g. `left == right`\n",
      "  outliers_1 = ((df < (Q1 - 1.5 * IQR)) | (df > (Q3 + 1.5 * IQR))).sum()\n"
     ]
    },
    {
     "data": {
      "text/plain": [
       "Date            0\n",
       "Day             0\n",
       "Flyers          3\n",
       "Price           0\n",
       "Rainfall       28\n",
       "Sales           4\n",
       "Temperature     2\n",
       "dtype: int64"
      ]
     },
     "execution_count": 24,
     "metadata": {},
     "output_type": "execute_result"
    }
   ],
   "source": [
    "Q1 = df.quantile(0.25)\n",
    "Q3 = df.quantile(0.75)\n",
    "IQR = Q3 - Q1\n",
    "outliers_1 = ((df < (Q1 - 1.5 * IQR)) | (df > (Q3 + 1.5 * IQR))).sum()\n",
    "outliers_1"
   ]
  },
  {
   "cell_type": "code",
   "execution_count": 25,
   "id": "c7f6aa95",
   "metadata": {},
   "outputs": [
    {
     "name": "stderr",
     "output_type": "stream",
     "text": [
      "/var/folders/dc/8rtfvpyj2mb6mqbnfkf5dl400000gn/T/ipykernel_9399/1285862033.py:4: FutureWarning: Automatic reindexing on DataFrame vs Series comparisons is deprecated and will raise ValueError in a future version.  Do `left, right = left.align(right, axis=1, copy=False)` before e.g. `left == right`\n",
      "  outliers_2  = ((df < (Q1 - 3 * IQR))  | (df > (Q3 + 3 * IQR))).sum()\n"
     ]
    },
    {
     "data": {
      "text/plain": [
       "Date           0\n",
       "Day            0\n",
       "Flyers         1\n",
       "Price          0\n",
       "Rainfall       4\n",
       "Sales          4\n",
       "Temperature    1\n",
       "dtype: int64"
      ]
     },
     "execution_count": 25,
     "metadata": {},
     "output_type": "execute_result"
    }
   ],
   "source": [
    "Q1 = df.quantile(0.25)\n",
    "Q3 = df.quantile(0.75)\n",
    "IQR = Q3 - Q1\n",
    "outliers_2  = ((df < (Q1 - 3 * IQR))  | (df > (Q3 + 3 * IQR))).sum()\n",
    "outliers_2"
   ]
  },
  {
   "cell_type": "code",
   "execution_count": 33,
   "id": "b65d896a",
   "metadata": {},
   "outputs": [
    {
     "name": "stderr",
     "output_type": "stream",
     "text": [
      "/var/folders/dc/8rtfvpyj2mb6mqbnfkf5dl400000gn/T/ipykernel_9399/3900308149.py:1: FutureWarning: Automatic reindexing on DataFrame vs Series comparisons is deprecated and will raise ValueError in a future version.  Do `left, right = left.align(right, axis=1, copy=False)` before e.g. `left == right`\n",
      "  df[((df < (Q1 - 3 * IQR))  | (df > (Q3 + 3 * IQR))).abs() > 2]\n"
     ]
    },
    {
     "data": {
      "text/html": [
       "<div>\n",
       "<style scoped>\n",
       "    .dataframe tbody tr th:only-of-type {\n",
       "        vertical-align: middle;\n",
       "    }\n",
       "\n",
       "    .dataframe tbody tr th {\n",
       "        vertical-align: top;\n",
       "    }\n",
       "\n",
       "    .dataframe thead th {\n",
       "        text-align: right;\n",
       "    }\n",
       "</style>\n",
       "<table border=\"1\" class=\"dataframe\">\n",
       "  <thead>\n",
       "    <tr style=\"text-align: right;\">\n",
       "      <th></th>\n",
       "      <th>Date</th>\n",
       "      <th>Day</th>\n",
       "      <th>Temperature</th>\n",
       "      <th>Rainfall</th>\n",
       "      <th>Flyers</th>\n",
       "      <th>Price</th>\n",
       "      <th>Sales</th>\n",
       "      <th>temp_zscore</th>\n",
       "      <th>rainfall_zscore</th>\n",
       "    </tr>\n",
       "  </thead>\n",
       "  <tbody>\n",
       "    <tr>\n",
       "      <th>0</th>\n",
       "      <td>NaN</td>\n",
       "      <td>NaN</td>\n",
       "      <td>NaN</td>\n",
       "      <td>NaN</td>\n",
       "      <td>NaN</td>\n",
       "      <td>NaN</td>\n",
       "      <td>NaN</td>\n",
       "      <td>NaN</td>\n",
       "      <td>NaN</td>\n",
       "    </tr>\n",
       "    <tr>\n",
       "      <th>1</th>\n",
       "      <td>NaN</td>\n",
       "      <td>NaN</td>\n",
       "      <td>NaN</td>\n",
       "      <td>NaN</td>\n",
       "      <td>NaN</td>\n",
       "      <td>NaN</td>\n",
       "      <td>NaN</td>\n",
       "      <td>NaN</td>\n",
       "      <td>NaN</td>\n",
       "    </tr>\n",
       "    <tr>\n",
       "      <th>2</th>\n",
       "      <td>NaN</td>\n",
       "      <td>NaN</td>\n",
       "      <td>NaN</td>\n",
       "      <td>NaN</td>\n",
       "      <td>NaN</td>\n",
       "      <td>NaN</td>\n",
       "      <td>NaN</td>\n",
       "      <td>NaN</td>\n",
       "      <td>NaN</td>\n",
       "    </tr>\n",
       "    <tr>\n",
       "      <th>3</th>\n",
       "      <td>NaN</td>\n",
       "      <td>NaN</td>\n",
       "      <td>NaN</td>\n",
       "      <td>NaN</td>\n",
       "      <td>NaN</td>\n",
       "      <td>NaN</td>\n",
       "      <td>NaN</td>\n",
       "      <td>NaN</td>\n",
       "      <td>NaN</td>\n",
       "    </tr>\n",
       "    <tr>\n",
       "      <th>4</th>\n",
       "      <td>NaN</td>\n",
       "      <td>NaN</td>\n",
       "      <td>NaN</td>\n",
       "      <td>NaN</td>\n",
       "      <td>NaN</td>\n",
       "      <td>NaN</td>\n",
       "      <td>NaN</td>\n",
       "      <td>NaN</td>\n",
       "      <td>NaN</td>\n",
       "    </tr>\n",
       "    <tr>\n",
       "      <th>...</th>\n",
       "      <td>...</td>\n",
       "      <td>...</td>\n",
       "      <td>...</td>\n",
       "      <td>...</td>\n",
       "      <td>...</td>\n",
       "      <td>...</td>\n",
       "      <td>...</td>\n",
       "      <td>...</td>\n",
       "      <td>...</td>\n",
       "    </tr>\n",
       "    <tr>\n",
       "      <th>360</th>\n",
       "      <td>NaN</td>\n",
       "      <td>NaN</td>\n",
       "      <td>NaN</td>\n",
       "      <td>NaN</td>\n",
       "      <td>NaN</td>\n",
       "      <td>NaN</td>\n",
       "      <td>NaN</td>\n",
       "      <td>NaN</td>\n",
       "      <td>NaN</td>\n",
       "    </tr>\n",
       "    <tr>\n",
       "      <th>361</th>\n",
       "      <td>NaN</td>\n",
       "      <td>NaN</td>\n",
       "      <td>NaN</td>\n",
       "      <td>NaN</td>\n",
       "      <td>NaN</td>\n",
       "      <td>NaN</td>\n",
       "      <td>NaN</td>\n",
       "      <td>NaN</td>\n",
       "      <td>NaN</td>\n",
       "    </tr>\n",
       "    <tr>\n",
       "      <th>362</th>\n",
       "      <td>NaN</td>\n",
       "      <td>NaN</td>\n",
       "      <td>NaN</td>\n",
       "      <td>NaN</td>\n",
       "      <td>NaN</td>\n",
       "      <td>NaN</td>\n",
       "      <td>NaN</td>\n",
       "      <td>NaN</td>\n",
       "      <td>NaN</td>\n",
       "    </tr>\n",
       "    <tr>\n",
       "      <th>363</th>\n",
       "      <td>NaN</td>\n",
       "      <td>NaN</td>\n",
       "      <td>NaN</td>\n",
       "      <td>NaN</td>\n",
       "      <td>NaN</td>\n",
       "      <td>NaN</td>\n",
       "      <td>NaN</td>\n",
       "      <td>NaN</td>\n",
       "      <td>NaN</td>\n",
       "    </tr>\n",
       "    <tr>\n",
       "      <th>364</th>\n",
       "      <td>NaN</td>\n",
       "      <td>NaN</td>\n",
       "      <td>NaN</td>\n",
       "      <td>NaN</td>\n",
       "      <td>NaN</td>\n",
       "      <td>NaN</td>\n",
       "      <td>NaN</td>\n",
       "      <td>NaN</td>\n",
       "      <td>NaN</td>\n",
       "    </tr>\n",
       "  </tbody>\n",
       "</table>\n",
       "<p>365 rows × 9 columns</p>\n",
       "</div>"
      ],
      "text/plain": [
       "    Date  Day  Temperature  Rainfall  Flyers  Price  Sales  temp_zscore  \\\n",
       "0    NaN  NaN          NaN       NaN     NaN    NaN    NaN          NaN   \n",
       "1    NaN  NaN          NaN       NaN     NaN    NaN    NaN          NaN   \n",
       "2    NaN  NaN          NaN       NaN     NaN    NaN    NaN          NaN   \n",
       "3    NaN  NaN          NaN       NaN     NaN    NaN    NaN          NaN   \n",
       "4    NaN  NaN          NaN       NaN     NaN    NaN    NaN          NaN   \n",
       "..   ...  ...          ...       ...     ...    ...    ...          ...   \n",
       "360  NaN  NaN          NaN       NaN     NaN    NaN    NaN          NaN   \n",
       "361  NaN  NaN          NaN       NaN     NaN    NaN    NaN          NaN   \n",
       "362  NaN  NaN          NaN       NaN     NaN    NaN    NaN          NaN   \n",
       "363  NaN  NaN          NaN       NaN     NaN    NaN    NaN          NaN   \n",
       "364  NaN  NaN          NaN       NaN     NaN    NaN    NaN          NaN   \n",
       "\n",
       "     rainfall_zscore  \n",
       "0                NaN  \n",
       "1                NaN  \n",
       "2                NaN  \n",
       "3                NaN  \n",
       "4                NaN  \n",
       "..               ...  \n",
       "360              NaN  \n",
       "361              NaN  \n",
       "362              NaN  \n",
       "363              NaN  \n",
       "364              NaN  \n",
       "\n",
       "[365 rows x 9 columns]"
      ]
     },
     "execution_count": 33,
     "metadata": {},
     "output_type": "execute_result"
    }
   ],
   "source": [
    "df[((df < (Q1 - 3 * IQR))  | (df > (Q3 + 3 * IQR))).abs() > 2]"
   ]
  },
  {
   "cell_type": "code",
   "execution_count": 34,
   "id": "fde2a66d",
   "metadata": {},
   "outputs": [],
   "source": [
    "df['temp_zscore'] = (df.Temperature - df.Temperature.mean()) / df.Temperature.std()\n",
    "df['rainfall_zscore'] = (df.Rainfall - df.Rainfall.mean()) / df.Rainfall.std()\n",
    "df['flyers_zscore'] = (df.Flyers - df.Flyers.mean()) / df.Flyers.std()\n",
    "df['sales_zscore'] = (df.Sales - df.Sales.mean()) / df.Sales.std()"
   ]
  },
  {
   "cell_type": "code",
   "execution_count": 37,
   "id": "1aed21ea",
   "metadata": {},
   "outputs": [
    {
     "data": {
      "text/plain": [
       "Date                7/27/17\n",
       "Day                 Tuesday\n",
       "Temperature           212.0\n",
       "Rainfall                2.5\n",
       "Flyers                   77\n",
       "Price                   0.5\n",
       "Sales                   143\n",
       "temp_zscore        8.336627\n",
       "rainfall_zscore    6.112037\n",
       "flyers_zscore      2.676244\n",
       "sales_zscore       3.720233\n",
       "dtype: object"
      ]
     },
     "execution_count": 37,
     "metadata": {},
     "output_type": "execute_result"
    }
   ],
   "source": [
    "df[df['temp_zscore'].abs() > 2].max()"
   ]
  },
  {
   "cell_type": "code",
   "execution_count": 40,
   "id": "5971f8e9",
   "metadata": {},
   "outputs": [
    {
     "data": {
      "text/plain": [
       "Date               12/31/17\n",
       "Day                  Friday\n",
       "Temperature            15.1\n",
       "Rainfall               0.47\n",
       "Flyers                    9\n",
       "Price                   0.5\n",
       "Sales                     7\n",
       "temp_zscore       -2.550311\n",
       "rainfall_zscore   -1.299691\n",
       "flyers_zscore     -2.256137\n",
       "sales_zscore      -0.674217\n",
       "dtype: object"
      ]
     },
     "execution_count": 40,
     "metadata": {},
     "output_type": "execute_result"
    }
   ],
   "source": [
    "df[df['temp_zscore'].abs() > 2].min()"
   ]
  },
  {
   "cell_type": "markdown",
   "id": "d142bb83",
   "metadata": {},
   "source": [
    "- 212 degree temp still stands out and should be removed"
   ]
  },
  {
   "cell_type": "code",
   "execution_count": 38,
   "id": "84020bf1",
   "metadata": {},
   "outputs": [
    {
     "data": {
      "text/plain": [
       "Date                  7/3/17\n",
       "Day                Wednesday\n",
       "Temperature             99.3\n",
       "Rainfall                 2.5\n",
       "Flyers                    80\n",
       "Price                    0.5\n",
       "Sales                    235\n",
       "temp_zscore         2.105251\n",
       "rainfall_zscore     6.112037\n",
       "flyers_zscore       2.893849\n",
       "sales_zscore        6.692948\n",
       "dtype: object"
      ]
     },
     "execution_count": 38,
     "metadata": {},
     "output_type": "execute_result"
    }
   ],
   "source": [
    "df[df['flyers_zscore'].abs() >= 2].max()"
   ]
  },
  {
   "cell_type": "code",
   "execution_count": 39,
   "id": "264b4a4f",
   "metadata": {},
   "outputs": [
    {
     "data": {
      "text/plain": [
       "Date               11/21/17\n",
       "Day                  Friday\n",
       "Temperature            15.1\n",
       "Rainfall               0.47\n",
       "Flyers                  -38\n",
       "Price                   0.5\n",
       "Sales                     7\n",
       "temp_zscore       -2.550311\n",
       "rainfall_zscore   -1.299691\n",
       "flyers_zscore     -5.665283\n",
       "sales_zscore      -0.674217\n",
       "dtype: object"
      ]
     },
     "execution_count": 39,
     "metadata": {},
     "output_type": "execute_result"
    }
   ],
   "source": [
    "df[df['flyers_zscore'].abs() >= 2].min()"
   ]
  },
  {
   "cell_type": "markdown",
   "id": "ae1d206b",
   "metadata": {},
   "source": [
    "- negative flyers score of -38 needs to be removed"
   ]
  },
  {
   "cell_type": "markdown",
   "id": "12b60676",
   "metadata": {},
   "source": [
    "***\n",
    "3) `Now use a 3 sigma decision rule to isolate the outliers in the normally distributed columns from lemonade.csv`"
   ]
  },
  {
   "cell_type": "code",
   "execution_count": 41,
   "id": "e6c1c071",
   "metadata": {},
   "outputs": [
    {
     "data": {
      "text/plain": [
       "Date                2/11/17\n",
       "Day                Saturday\n",
       "Temperature           212.0\n",
       "Rainfall               0.91\n",
       "Flyers                   35\n",
       "Price                   0.5\n",
       "Sales                    21\n",
       "temp_zscore        8.336627\n",
       "rainfall_zscore    0.306792\n",
       "flyers_zscore     -0.370227\n",
       "sales_zscore      -0.221847\n",
       "dtype: object"
      ]
     },
     "execution_count": 41,
     "metadata": {},
     "output_type": "execute_result"
    }
   ],
   "source": [
    "df[df['temp_zscore'].abs() >= 3].min()"
   ]
  },
  {
   "cell_type": "code",
   "execution_count": 42,
   "id": "24d5446a",
   "metadata": {},
   "outputs": [
    {
     "data": {
      "text/plain": [
       "Date                2/11/17\n",
       "Day                Saturday\n",
       "Temperature           212.0\n",
       "Rainfall               0.91\n",
       "Flyers                   35\n",
       "Price                   0.5\n",
       "Sales                    21\n",
       "temp_zscore        8.336627\n",
       "rainfall_zscore    0.306792\n",
       "flyers_zscore     -0.370227\n",
       "sales_zscore      -0.221847\n",
       "dtype: object"
      ]
     },
     "execution_count": 42,
     "metadata": {},
     "output_type": "execute_result"
    }
   ],
   "source": [
    "df[df['temp_zscore'].abs() >= 3].max()"
   ]
  },
  {
   "cell_type": "markdown",
   "id": "9d3a9f52",
   "metadata": {},
   "source": [
    "- remove temp of 212"
   ]
  },
  {
   "cell_type": "code",
   "execution_count": 43,
   "id": "1bc055ba",
   "metadata": {},
   "outputs": [
    {
     "data": {
      "text/plain": [
       "Date               11/21/17\n",
       "Day                 Tuesday\n",
       "Temperature            47.0\n",
       "Rainfall               0.95\n",
       "Flyers                  -38\n",
       "Price                   0.5\n",
       "Sales                    20\n",
       "temp_zscore       -0.786506\n",
       "rainfall_zscore    0.452836\n",
       "flyers_zscore     -5.665283\n",
       "sales_zscore      -0.254159\n",
       "dtype: object"
      ]
     },
     "execution_count": 43,
     "metadata": {},
     "output_type": "execute_result"
    }
   ],
   "source": [
    "df[df['flyers_zscore'].abs() >= 3].min()"
   ]
  },
  {
   "cell_type": "markdown",
   "id": "23bd1cbf",
   "metadata": {},
   "source": [
    "- remove -38 flyer score"
   ]
  },
  {
   "cell_type": "code",
   "execution_count": null,
   "id": "488caeb6",
   "metadata": {},
   "outputs": [],
   "source": []
  }
 ],
 "metadata": {
  "kernelspec": {
   "display_name": "Python 3 (ipykernel)",
   "language": "python",
   "name": "python3"
  },
  "language_info": {
   "codemirror_mode": {
    "name": "ipython",
    "version": 3
   },
   "file_extension": ".py",
   "mimetype": "text/x-python",
   "name": "python",
   "nbconvert_exporter": "python",
   "pygments_lexer": "ipython3",
   "version": "3.9.7"
  }
 },
 "nbformat": 4,
 "nbformat_minor": 5
}
